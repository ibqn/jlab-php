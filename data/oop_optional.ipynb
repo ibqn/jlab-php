{
 "cells": [
  {
   "cell_type": "code",
   "execution_count": 1,
   "metadata": {},
   "outputs": [],
   "source": [
    "//Definition der Klasse Fahrzeug\n",
    "class Fahrzeug\n",
    "{\n",
    "    private $geschwindigkeit;\n",
    "    private $bezeichnung;\n",
    "\n",
    "    //Konstruktor mit optionalen Parametern\n",
    "    function __construct($bez = \"xxx\", $ge = 0)\n",
    "    {\n",
    "        $this->bezeichnung = $bez;\n",
    "        $this->geschwindigkeit = $ge;\n",
    "    }\n",
    "    \n",
    "    function beschleunigen($wert)\n",
    "    {\n",
    "        $this->geschwindigkeit += $wert;\n",
    "    }\n",
    "    \n",
    "    function __toString()\n",
    "    {\n",
    "        return \"Name: $this->bezeichnung, Geschwindigkeit:\"\n",
    "            .\" $this->geschwindigkeit km/h <br>\";\n",
    "    }\n",
    "}"
   ]
  },
  {
   "cell_type": "code",
   "execution_count": 2,
   "metadata": {},
   "outputs": [
    {
     "data": {
      "text/plain": [
       "Name: Vespa Piaggio, Geschwindigkeit: 0 km/h <br>\n"
      ]
     },
     "execution_count": 2,
     "metadata": {},
     "output_type": "execute_result"
    },
    {
     "data": {
      "text/plain": [
       "Name: , Geschwindigkeit: 62 km/h <br>\n"
      ]
     },
     "execution_count": 2,
     "metadata": {},
     "output_type": "execute_result"
    },
    {
     "data": {
      "text/plain": [
       "Name: Jeep Cherokee, Geschwindigkeit: 45 km/h <br>\n"
      ]
     },
     "execution_count": 2,
     "metadata": {},
     "output_type": "execute_result"
    },
    {
     "data": {
      "text/plain": [
       "Name: xxx, Geschwindigkeit: 0 km/h <br>\n"
      ]
     },
     "execution_count": 2,
     "metadata": {},
     "output_type": "execute_result"
    }
   ],
   "source": [
    "//Objekte der Klasse Fahrzeuge erzeugen\n",
    "$vespa = new Fahrzeug(\"Vespa Piaggio\");\n",
    "$scania = new Fahrzeug(\"\",62);\n",
    "$jeep = new Fahrzeug(\"Jeep Cherokee\",45);\n",
    "$hyundai = new Fahrzeug();\n",
    "\n",
    "//Objekte betrachten\n",
    "echo $vespa;\n",
    "echo $scania;\n",
    "echo $jeep;\n",
    "echo $hyundai;"
   ]
  },
  {
   "cell_type": "code",
   "execution_count": null,
   "metadata": {},
   "outputs": [],
   "source": []
  },
  {
   "cell_type": "code",
   "execution_count": null,
   "metadata": {},
   "outputs": [],
   "source": []
  }
 ],
 "metadata": {
  "kernelspec": {
   "display_name": "PHP",
   "language": "php",
   "name": "jupyter-php"
  },
  "language_info": {
   "file_extension": ".php",
   "mimetype": "text/x-php",
   "name": "PHP",
   "pygments_lexer": "PHP",
   "version": "7.2.24-0ubuntu0.18.04.1"
  }
 },
 "nbformat": 4,
 "nbformat_minor": 4
}
